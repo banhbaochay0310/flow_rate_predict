{
 "cells": [
  {
   "cell_type": "code",
   "execution_count": 1,
   "metadata": {},
   "outputs": [
    {
     "data": {
      "text/plain": [
       "(          tên hồ          Qve      Tqx   Qxt      Qxm\n",
       " 0       Bản Chát    11.500000     0.00     0     0.00\n",
       " 1     Huội Quảng     5.300000     0.00     0     0.00\n",
       " 2         Sơn La   861.000000     0.00     0     0.00\n",
       " 3       Hòa Bình   200.000000   829.00     0   829.00\n",
       " 4        Thác Bà   117.170515     0.00     0     0.00\n",
       " ...          ...          ...      ...   ...      ...\n",
       " 7023    Bản Chát   170.400000   245.90     0   245.90\n",
       " 7024  Huội Quảng   300.000000   351.00     0   351.00\n",
       " 7025      Sơn La  2561.000000  3000.00     0  3000.00\n",
       " 7026    Hòa Bình  5011.000000  5534.00  3279  2255.00\n",
       " 7027     Thác Bà   450.000000   446.72     0   446.72\n",
       " \n",
       " [7028 rows x 5 columns],\n",
       "            tên hồ     Qve     Tqx   Qxt     Qxm\n",
       " 0       Pleikrông   30.00   42.00  0.00   42.00\n",
       " 1            Ialy  153.00  309.00  0.00  309.00\n",
       " 2        Sê San 3  316.00  243.00  0.00  243.00\n",
       " 3       Sê San 3A  216.00  245.00  0.00  245.00\n",
       " 4        Sê San 4  230.00  230.00  0.00  230.00\n",
       " ...           ...     ...     ...   ...     ...\n",
       " 21126  Đồng Nai 4   98.93   98.93  2.52   96.41\n",
       " 21127   Đơn Dương   46.31   39.03  2.24   36.79\n",
       " 21128    Đại Ninh   27.00   14.77  0.77   14.00\n",
       " 21129   Hàm Thuận   65.43   58.10  0.00   58.10\n",
       " 21130       Đa Mi   66.28   90.45  0.00   90.45\n",
       " \n",
       " [21131 rows x 5 columns],\n",
       "              tên hồ    Qve     Tqx   Qxt     Qxm\n",
       " 0           A Vương  38.20   38.20  0.00   38.20\n",
       " 1       Sông Bung 2  16.32   16.32  0.00   16.32\n",
       " 2        Vĩnh Sơn A   2.81   13.20  0.00   13.20\n",
       " 3       Sông Bung 4  75.00   75.00  0.00   75.00\n",
       " 4        Vĩnh Sơn B  10.35    5.85  5.85    0.00\n",
       " ...             ...    ...     ...   ...     ...\n",
       " 11632    Vĩnh Sơn B   0.68    0.00  0.00    0.00\n",
       " 11633    Vĩnh Sơn C   0.44    0.00  0.00    0.00\n",
       " 11634  Sông Tranh 2  66.93  107.76  5.76  102.00\n",
       " 11635    Sông Ba Hạ  60.00  127.00  0.00  127.00\n",
       " 11636     Sông Hinh  19.39   53.28  0.00   53.28\n",
       " \n",
       " [11637 rows x 5 columns])"
      ]
     },
     "execution_count": 1,
     "metadata": {},
     "output_type": "execute_result"
    }
   ],
   "source": [
    "import numpy as np\n",
    "import pandas as pd\n",
    "import joblib\n",
    "from sklearn.preprocessing import StandardScaler, MinMaxScaler,LabelEncoder, OneHotEncoder\n",
    "from sklearn.model_selection import train_test_split\n",
    "from sklearn.linear_model import LinearRegression\n",
    "from sklearn.metrics import mean_squared_error,mean_absolute_percentage_error, mean_absolute_error, r2_score, accuracy_score\n",
    "\n",
    "tbb = pd.read_csv(\"D:/bigdata/dacn_nhom12/data/data_train/tbb.csv\")\n",
    "tn = pd.read_csv('D:/bigdata/dacn_nhom12/data/data_train/tn.csv')\n",
    "dh = pd.read_csv('D:/bigdata/dacn_nhom12/data/data_train/dh.csv')\n",
    "tbb, tn, dh"
   ]
  },
  {
   "cell_type": "code",
   "execution_count": 2,
   "metadata": {},
   "outputs": [],
   "source": [
    "def train(df):\n",
    "    # Tách cột mục tiêu và đặc trưng\n",
    "    targets = df['Tqx']\n",
    "    features = df.drop(['Tqx'], axis=1)\n",
    "\n",
    "    # Mã hóa cột 'tên hồ'\n",
    "    label_encoder = LabelEncoder()\n",
    "    features['tên hồ'] = label_encoder.fit_transform(df['tên hồ'].values.ravel())\n",
    "\n",
    "\n",
    "    # Chia dữ liệu thành tập huấn luyện và kiểm tra\n",
    "    X_train, X_test, y_train, y_test = train_test_split(features, targets, test_size=0.15, random_state=42)\n",
    "\n",
    "    # Chuẩn hóa dữ liệu\n",
    "    scaler = MinMaxScaler()\n",
    "    X_train = scaler.fit_transform(X_train)\n",
    "    X_test = scaler.transform(X_test)\n",
    "\n",
    "    # Huấn luyện mô hình\n",
    "    model = LinearRegression()\n",
    "    model.fit(X_train, y_train)\n",
    "\n",
    "    # Đánh giá mô hình\n",
    "    y_pred = model.predict(X_test)\n",
    "    print(f\"R^2 Score: {model.score(X_test, y_test):.4f}\")\n",
    "    print(f\"MSE: {mean_squared_error(y_test, y_pred):.4f}\")\n",
    "    print(f\"RMSE: {np.sqrt(mean_squared_error(y_test, y_pred)):.4f}\")\n",
    "    print(f\"MAE: {mean_absolute_error(y_test, y_pred):.4f}\")\n",
    "    print(f\"MAPE: {mean_absolute_percentage_error(y_test, y_pred) * 100:.2f}%\")\n",
    "\n",
    "    return model, label_encoder, scaler\n"
   ]
  },
  {
   "cell_type": "code",
   "execution_count": 3,
   "metadata": {},
   "outputs": [
    {
     "name": "stdout",
     "output_type": "stream",
     "text": [
      "R^2 Score: 1.0000\n",
      "MSE: 0.0000\n",
      "RMSE: 0.0000\n",
      "MAE: 0.0000\n",
      "MAPE: 65592.73%\n",
      "R^2 Score: 1.0000\n",
      "MSE: 0.0000\n",
      "RMSE: 0.0000\n",
      "MAE: 0.0000\n",
      "MAPE: 3011.66%\n",
      "R^2 Score: 1.0000\n",
      "MSE: 0.0000\n",
      "RMSE: 0.0000\n",
      "MAE: 0.0000\n",
      "MAPE: 20812.74%\n"
     ]
    }
   ],
   "source": [
    "model_tbb, encoder_tbb, scaler_tbb = train(tbb)\n",
    "model_tn, encoder_tn, scaler_tn = train(tn)\n",
    "model_dh, encoder_dh, scaler_dh = train(dh)"
   ]
  },
  {
   "cell_type": "code",
   "execution_count": 4,
   "metadata": {},
   "outputs": [
    {
     "data": {
      "text/plain": [
       "['D:/bigdata/dacn_nhom12/encoder/encoder_dh.joblib']"
      ]
     },
     "execution_count": 4,
     "metadata": {},
     "output_type": "execute_result"
    }
   ],
   "source": [
    "joblib.dump(model_tbb, 'D:/bigdata/dacn_nhom12/model/model_tbb.joblib')\n",
    "joblib.dump(model_tn, 'D:/bigdata/dacn_nhom12/model/model_tn.joblib')\n",
    "joblib.dump(model_dh, 'D:/bigdata/dacn_nhom12/model/model_dh.joblib')\n",
    "\n",
    "joblib.dump(scaler_tbb, 'D:/bigdata/dacn_nhom12/scaler/scaler_tbb.joblib')\n",
    "joblib.dump(scaler_tn, 'D:/bigdata/dacn_nhom12/scaler/scaler_tn.joblib')\n",
    "joblib.dump(scaler_dh, 'D:/bigdata/dacn_nhom12/scaler/scaler_dh.joblib')\n",
    "\n",
    "joblib.dump(encoder_tbb, 'D:/bigdata/dacn_nhom12/encoder/encoder_tbb.joblib')\n",
    "joblib.dump(encoder_tn, 'D:/bigdata/dacn_nhom12/encoder/encoder_tn.joblib')\n",
    "joblib.dump(encoder_dh, 'D:/bigdata/dacn_nhom12/encoder/encoder_dh.joblib')\n"
   ]
  }
 ],
 "metadata": {
  "kernelspec": {
   "display_name": "Python 3",
   "language": "python",
   "name": "python3"
  },
  "language_info": {
   "codemirror_mode": {
    "name": "ipython",
    "version": 3
   },
   "file_extension": ".py",
   "mimetype": "text/x-python",
   "name": "python",
   "nbconvert_exporter": "python",
   "pygments_lexer": "ipython3",
   "version": "3.9.13"
  }
 },
 "nbformat": 4,
 "nbformat_minor": 2
}
